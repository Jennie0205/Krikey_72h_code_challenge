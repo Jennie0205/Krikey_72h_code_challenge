{
  "nbformat": 4,
  "nbformat_minor": 0,
  "metadata": {
    "colab": {
      "name": "Part1_Krikey_EDA",
      "provenance": [],
      "collapsed_sections": [],
      "toc_visible": true
    },
    "kernelspec": {
      "name": "python3",
      "display_name": "Python 3"
    },
    "language_info": {
      "name": "python"
    }
  },
  "cells": [
    {
      "cell_type": "code",
      "execution_count": null,
      "metadata": {
        "id": "DdIxi3AZ5vLK"
      },
      "outputs": [],
      "source": [
        "# Each plot will not open a new window\n",
        "%matplotlib inline\n",
        "\n",
        "# Python fundamental libraries\n",
        "import os\n",
        "import time\n",
        "from collections import defaultdict\n",
        "from IPython.display import Image\n",
        "import pandas as pd\n",
        "import numpy as np\n",
        "import matplotlib.pyplot as plt\n",
        "from matplotlib import rcParams\n",
        "import matplotlib.patches as mpatches\n",
        "import seaborn as sns\n",
        "from tabulate import tabulate"
      ]
    },
    {
      "cell_type": "markdown",
      "source": [
        "# Import Data from drive\n"
      ],
      "metadata": {
        "id": "Efa-SebGm8ZB"
      }
    },
    {
      "cell_type": "code",
      "source": [
        "# Load data\n",
        "## Mount google drive \n",
        "from google.colab import drive\n",
        "import os.path \n",
        "drive.mount('/content/gdrive')"
      ],
      "metadata": {
        "colab": {
          "base_uri": "https://localhost:8080/"
        },
        "id": "s7RJAX6inKOR",
        "outputId": "57c023c5-3c4b-4e5e-9a8e-e16f0f262c0b"
      },
      "execution_count": null,
      "outputs": [
        {
          "output_type": "stream",
          "name": "stdout",
          "text": [
            "Mounted at /content/gdrive\n"
          ]
        }
      ]
    },
    {
      "cell_type": "code",
      "source": [
        "df1_wVideos = pd.read_csv('./gdrive/MyDrive/Dataset_Krikey/watchedVideo.csv',index_col = [0])\n",
        "df1_wVideos.names = 'Watched_Videos'\n",
        "df1_videos = pd.read_csv('./gdrive/MyDrive/Dataset_Krikey/videos.csv',index_col = [0]) \n",
        "df1_videos.names = 'videos'\n",
        "df1_users = pd.read_csv('./gdrive/MyDrive/Dataset_Krikey/users.csv',index_col = [0]) \n",
        "df1_users.names = 'Users'\n",
        "df1_feeds = pd.read_csv('./gdrive/MyDrive/Dataset_Krikey/feeds.csv',index_col = [0]) \n",
        "df1_feeds.names = 'Feeds'\n",
        "\n",
        "df_array = [df1_wVideos, df1_videos, df1_users, df1_feeds]\n",
        "df_array[0].names = df1_wVideos.names\n",
        "df_array[1].names = df1_videos.names\n",
        "df_array[2].names = df1_users.names\n",
        "df_array[3].names = df1_feeds.names"
      ],
      "metadata": {
        "id": "tkhyAQhdpA1E"
      },
      "execution_count": null,
      "outputs": []
    },
    {
      "cell_type": "markdown",
      "source": [
        "## Check the dataframe columns and values"
      ],
      "metadata": {
        "id": "Xr-mIGM1V0oO"
      }
    },
    {
      "cell_type": "code",
      "source": [
        "for i, df in enumerate(df_array):\n",
        "  print('\\n' + str(i) + '. ' + df.names)\n",
        "  print(tabulate(df.head(3), headers='keys', tablefmt='psql'))\n"
      ],
      "metadata": {
        "colab": {
          "base_uri": "https://localhost:8080/"
        },
        "id": "s_RnV-8frFBT",
        "outputId": "0363b13e-d51c-4420-b89e-9bbc1652ba40"
      },
      "execution_count": null,
      "outputs": [
        {
          "output_type": "stream",
          "name": "stdout",
          "text": [
            "\n",
            "0. Watched_Videos\n",
            "+----+-----------------------------------------------+------+------------+--------------------------------------+--------------------------------------+--------------+---------------------+--------------------------------------+\n",
            "|    | coordinates                                   | os   |   duration | videoId                              | userId                               | appVersion   | dateTime            | feedId                               |\n",
            "|----+-----------------------------------------------+------+------------+--------------------------------------+--------------------------------------+--------------+---------------------+--------------------------------------|\n",
            "|  0 | (Decimal('14.439490'), Decimal('105.291233')) | iOS  |       3.95 | 722e110c-2f81-46aa-9c25-4d26fd77519f | 317a2bc3-5f95-4d35-9a94-1f2f38424c4f | 2.2.2        | 2021-08-04 09:39:07 | 30134b9e-1b79-43fb-b0c5-373af9237b2c |\n",
            "|  1 | (Decimal('40.866935'), Decimal('-73.845013')) | iOS  |       5.95 | cc10d153-37f9-42b5-8d78-2365908acf2b | db031c3d-69e4-4c06-91fe-e9be0a3c173c | 2.2.1        | 2021-07-06 16:32:10 | 8078efe7-5bae-4528-9a66-b85904cc73ac |\n",
            "|  2 | (Decimal('48.666850'), Decimal('9.359456'))   | iOS  |       0.69 | 7f3f7fce-f2ec-4dfd-bac8-92dc7865a365 | 8fb18b66-f548-42a7-b394-c1be963cac29 | 2.2.0        | 2021-12-06 01:42:02 | 6894af29-56cc-4b4a-8ee6-be9b3cb3e7f1 |\n",
            "+----+-----------------------------------------------+------+------------+--------------------------------------+--------------------------------------+--------------+---------------------+--------------------------------------+\n",
            "\n",
            "1. videos\n",
            "+----+--------------------------------------+--------------------------------------+--------------------------------------+--------------------------------------+------------+--------------------------------------+---------------------+--------------+--------------------------------------+---------+\n",
            "|    | id                                   | attribute_id                         | music_id                             | animation_id                         |   duration | creator                              | created_at          |   num_shares | game_id                              | is_ar   |\n",
            "|----+--------------------------------------+--------------------------------------+--------------------------------------+--------------------------------------+------------+--------------------------------------+---------------------+--------------+--------------------------------------+---------|\n",
            "|  0 | 6e884071-8c0e-4782-aa40-e0fd78243360 | 4712e9e6-bef1-4646-b21e-ca5336901bf9 | 4ee0de5b-e27f-4d73-a3c6-52cf26e36c54 | 17dab81c-6180-4a4b-b539-91978a726cfd |       5.34 | 73ec1ac2-d148-45ac-94a8-9bdff51730d7 | 2021-08-04 10:42:39 |           12 | 8bd4c7be-fe87-45ad-990d-d131cd3d9c77 | True    |\n",
            "|  1 | ac90ff16-24b4-46bc-ae72-2da847f9e6c9 | 4f91d2b6-bf42-4d3f-a8e8-acc3b07f647e | 4ee0de5b-e27f-4d73-a3c6-52cf26e36c54 | 6d7a0545-0bca-4bf4-a306-931e57d8ffe2 |       3.88 | 0230f9af-e89f-4886-8322-52a38eaf991c | 2021-11-27 10:06:43 |            3 | 6ca0f645-a16b-42b0-9dc2-2ae952c83591 | True    |\n",
            "|  2 | fb5eaf0d-e72c-4523-b5c5-4d9c323cef5f | 80f5b187-f6e6-40f2-9b6e-fe62b67049a8 | d53234f4-1efb-4299-97c1-11658118cba5 | 716c02df-bd3a-41c9-b2be-86fb74ff3255 |       5.15 | fbf93fbf-a935-436f-8516-8acb863e779f | 2021-02-26 04:18:53 |            4 | 6ca0f645-a16b-42b0-9dc2-2ae952c83591 | True    |\n",
            "+----+--------------------------------------+--------------------------------------+--------------------------------------+--------------------------------------+------------+--------------------------------------+---------------------+--------------+--------------------------------------+---------+\n",
            "\n",
            "2. Users\n",
            "+----+--------------------------------------+---------------------+-------------+--------------------------+\n",
            "|    | id                                   | created_at          | class       | coordinates              |\n",
            "|----+--------------------------------------+---------------------+-------------+--------------------------|\n",
            "|  0 | 37e369a8-4477-4d5d-acd7-4e3b8059586e | 2021-03-23 00:24:53 | Creator     | ('36.76775', '2.95924')  |\n",
            "|  1 | 27cf0bb6-3488-4662-916d-3ad04eeec9ca | 2021-04-09 19:55:07 | Viewer      | ('43.71032', '-1.05366') |\n",
            "|  2 | 5ebd5e12-ba2a-4bf9-b7e4-92ad24711cd4 | 2021-04-08 21:48:45 | Super Gamer | ('51.26', '-2.1875')     |\n",
            "+----+--------------------------------------+---------------------+-------------+--------------------------+\n",
            "\n",
            "3. Feeds\n",
            "+----+--------------------------------------+---------+\n",
            "|    | id                                   | name    |\n",
            "|----+--------------------------------------+---------|\n",
            "|  0 | 27a87df4-da75-451f-b8f6-af9dd0a4ee00 | music   |\n",
            "|  1 | 42568c8a-efbe-4293-81a3-513e33094ade | fashion |\n",
            "|  2 | 6894af29-56cc-4b4a-8ee6-be9b3cb3e7f1 | sports  |\n",
            "+----+--------------------------------------+---------+\n"
          ]
        }
      ]
    },
    {
      "cell_type": "markdown",
      "source": [
        "## Rename column for easier recognition\n"
      ],
      "metadata": {
        "id": "-nO264WGIecL"
      }
    },
    {
      "cell_type": "code",
      "source": [
        "df1_wVideos.rename(columns = {'duration':'video_watch_duration'}, inplace = True)\n",
        "df1_wVideos.rename(columns = {'dateTime':'video_watch_dateTime'}, inplace = True)\n",
        "df1_videos.rename(columns = {'duration':'video_duration'}, inplace = True)\n",
        "df1_videos.rename(columns = {'created_at':'video_created_at'}, inplace = True)\n",
        "df1_users.rename(columns = {'created_at':'user_created_at'}, inplace = True)\n",
        "df1_feeds.rename(columns = {'name':'feed_name'}, inplace = True)"
      ],
      "metadata": {
        "id": "6bZsuIeaId_1"
      },
      "execution_count": null,
      "outputs": []
    },
    {
      "cell_type": "markdown",
      "source": [
        "# A glimpse of the variables and data statistics\n"
      ],
      "metadata": {
        "id": "BqJNlJbtum4V"
      }
    },
    {
      "cell_type": "code",
      "source": [
        "for i, df in enumerate(df_array):\n",
        "  print('\\n' + str(i) + '. ' + df.names)  \n",
        "  print(tabulate(df.describe().transpose(), headers='keys', tablefmt='psql'))\n",
        "  print(tabulate(df.describe(include ='object').transpose(), headers='keys', tablefmt='psql'))\n"
      ],
      "metadata": {
        "colab": {
          "base_uri": "https://localhost:8080/"
        },
        "id": "XxZtPz0ifQV9",
        "outputId": "e4d10fbb-5313-4722-9dff-cf98787f2a61"
      },
      "execution_count": null,
      "outputs": [
        {
          "output_type": "stream",
          "name": "stdout",
          "text": [
            "\n",
            "0. Watched_Videos\n",
            "+----------------------+---------+---------+---------+-------+-------+-------+-------+-------+\n",
            "|                      |   count |    mean |     std |   min |   25% |   50% |   75% |   max |\n",
            "|----------------------+---------+---------+---------+-------+-------+-------+-------+-------|\n",
            "| video_watch_duration |   50000 | 3.41023 | 1.83826 |   0.1 |  2.05 |   3.3 |  4.88 |     7 |\n",
            "+----------------------+---------+---------+---------+-------+-------+-------+-------+-------+\n",
            "+----------------------+---------+----------+-----------------------------------------------+--------+\n",
            "|                      |   count |   unique | top                                           |   freq |\n",
            "|----------------------+---------+----------+-----------------------------------------------+--------|\n",
            "| coordinates          |   50000 |    50000 | (Decimal('14.439490'), Decimal('105.291233')) |      1 |\n",
            "| os                   |   50000 |        2 | Android                                       |  25037 |\n",
            "| videoId              |   50000 |     5000 | 241ed4cb-e1bc-4892-9d29-304a9b5f8848          |     24 |\n",
            "| userId               |   50000 |     1000 | 39acf63e-c53c-43b9-a250-7a391070861a          |     72 |\n",
            "| appVersion           |   50000 |       10 | 2.1.2                                         |   5134 |\n",
            "| video_watch_dateTime |   50000 |    49649 | 2021-12-11 05:13:52                           |      3 |\n",
            "| feedId               |   50000 |       10 | 42568c8a-efbe-4293-81a3-513e33094ade          |   5116 |\n",
            "+----------------------+---------+----------+-----------------------------------------------+--------+\n",
            "\n",
            "1. videos\n",
            "+----------------+---------+---------+---------+-------+-------+--------+-------+-------+\n",
            "|                |   count |    mean |     std |   min |   25% |    50% |   75% |   max |\n",
            "|----------------+---------+---------+---------+-------+-------+--------+-------+-------|\n",
            "| video_duration |    5000 | 4.53651 | 1.4027  |   2.1 |  3.33 |  4.555 |  5.72 |     7 |\n",
            "| num_shares     |    5000 | 9.8488  | 5.99553 |   0   |  5    | 10     | 15    |    20 |\n",
            "+----------------+---------+---------+---------+-------+-------+--------+-------+-------+\n",
            "+------------------+---------+----------+--------------------------------------+--------+\n",
            "|                  |   count |   unique | top                                  |   freq |\n",
            "|------------------+---------+----------+--------------------------------------+--------|\n",
            "| id               |    5000 |     5000 | 6e884071-8c0e-4782-aa40-e0fd78243360 |      1 |\n",
            "| attribute_id     |    5000 |       11 | 25e7fab9-abfb-4a74-a8cb-c3adbc6e3531 |    483 |\n",
            "| music_id         |    5000 |       10 | c3721b09-6896-465a-8e13-4d73efd06874 |    550 |\n",
            "| animation_id     |    5000 |       15 | d167d0af-a662-48ad-bb39-5aa306fc8141 |    359 |\n",
            "| creator          |    5000 |      992 | ddfeab0f-274a-4cab-86c2-873cbd8e485e |     12 |\n",
            "| video_created_at |    5000 |     5000 | 2021-08-04 10:42:39                  |      1 |\n",
            "| game_id          |    5000 |        5 | 8bd4c7be-fe87-45ad-990d-d131cd3d9c77 |   1021 |\n",
            "+------------------+---------+----------+--------------------------------------+--------+\n",
            "\n",
            "2. Users\n",
            "+-----------------+---------+----------+--------------------------------------+--------+\n",
            "|                 |   count |   unique | top                                  |   freq |\n",
            "|-----------------+---------+----------+--------------------------------------+--------|\n",
            "| id              |    1000 |     1000 | 37e369a8-4477-4d5d-acd7-4e3b8059586e |      1 |\n",
            "| user_created_at |    1000 |     1000 | 2021-03-23 00:24:53                  |      1 |\n",
            "| class           |    1000 |        5 | Gamer                                |    213 |\n",
            "| coordinates     |    1000 |      626 | ('-6.25', '38.66667')                |      6 |\n",
            "+-----------------+---------+----------+--------------------------------------+--------+\n",
            "+-----------------+---------+----------+--------------------------------------+--------+\n",
            "|                 |   count |   unique | top                                  |   freq |\n",
            "|-----------------+---------+----------+--------------------------------------+--------|\n",
            "| id              |    1000 |     1000 | 37e369a8-4477-4d5d-acd7-4e3b8059586e |      1 |\n",
            "| user_created_at |    1000 |     1000 | 2021-03-23 00:24:53                  |      1 |\n",
            "| class           |    1000 |        5 | Gamer                                |    213 |\n",
            "| coordinates     |    1000 |      626 | ('-6.25', '38.66667')                |      6 |\n",
            "+-----------------+---------+----------+--------------------------------------+--------+\n",
            "\n",
            "3. Feeds\n",
            "+-----------+---------+----------+--------------------------------------+--------+\n",
            "|           |   count |   unique | top                                  |   freq |\n",
            "|-----------+---------+----------+--------------------------------------+--------|\n",
            "| id        |      10 |       10 | 27a87df4-da75-451f-b8f6-af9dd0a4ee00 |      1 |\n",
            "| feed_name |      10 |       10 | music                                |      1 |\n",
            "+-----------+---------+----------+--------------------------------------+--------+\n",
            "+-----------+---------+----------+--------------------------------------+--------+\n",
            "|           |   count |   unique | top                                  |   freq |\n",
            "|-----------+---------+----------+--------------------------------------+--------|\n",
            "| id        |      10 |       10 | 27a87df4-da75-451f-b8f6-af9dd0a4ee00 |      1 |\n",
            "| feed_name |      10 |       10 | music                                |      1 |\n",
            "+-----------+---------+----------+--------------------------------------+--------+\n"
          ]
        }
      ]
    },
    {
      "cell_type": "markdown",
      "source": [
        "# Check nan in the dataframe before going to the main data analysis"
      ],
      "metadata": {
        "id": "K6uQqmtLWUKs"
      }
    },
    {
      "cell_type": "code",
      "source": [
        "## Check nan in the original dataset\n",
        "for i,df in enumerate(df_array):\n",
        "  print('There is NaN in ' + df.names) if(df.isnull().sum().sum()) else print('no NaN found in ' + df.names)    "
      ],
      "metadata": {
        "colab": {
          "base_uri": "https://localhost:8080/"
        },
        "id": "X06ojCzXc01v",
        "outputId": "2c4f3d58-cb9f-40b2-a8cf-23fda61c6507"
      },
      "execution_count": null,
      "outputs": [
        {
          "output_type": "stream",
          "name": "stdout",
          "text": [
            "no NaN found in Watched_Videos\n",
            "no NaN found in videos\n",
            "no NaN found in Users\n",
            "no NaN found in Feeds\n"
          ]
        }
      ]
    },
    {
      "cell_type": "markdown",
      "source": [
        "# Data clean up\n",
        "1.  (Decimal(Latitude) ,Decimal(Longitude)) -->  (Latitude,Longitude) in Watched Video dataframe"
      ],
      "metadata": {
        "id": "bz7S6_XXzVy0"
      }
    },
    {
      "cell_type": "code",
      "source": [
        "df1_wVideos['coordinates'] = df1_wVideos['coordinates'].apply(lambda x: x.replace(\"Decimal\", \"\"))\\\n",
        "                            .apply(lambda x: x.replace(\"(\", \"\")).apply(lambda x: x.replace(\")\", \"\"))\\\n",
        "                            .apply(lambda x: x.replace(\"'\", \"\"))\n"
      ],
      "metadata": {
        "id": "6EKW51JVz87w"
      },
      "execution_count": null,
      "outputs": []
    },
    {
      "cell_type": "code",
      "source": [
        "df1_wVideos.head(3)"
      ],
      "metadata": {
        "colab": {
          "base_uri": "https://localhost:8080/",
          "height": 291
        },
        "id": "0DMvf03N0cXc",
        "outputId": "5a626854-5576-4a70-e5ff-cf9d272abf19"
      },
      "execution_count": null,
      "outputs": [
        {
          "output_type": "execute_result",
          "data": {
            "text/plain": [
              "             coordinates   os  video_watch_duration  \\\n",
              "0  14.439490, 105.291233  iOS                  3.95   \n",
              "1  40.866935, -73.845013  iOS                  5.95   \n",
              "2    48.666850, 9.359456  iOS                  0.69   \n",
              "\n",
              "                                videoId                                userId  \\\n",
              "0  722e110c-2f81-46aa-9c25-4d26fd77519f  317a2bc3-5f95-4d35-9a94-1f2f38424c4f   \n",
              "1  cc10d153-37f9-42b5-8d78-2365908acf2b  db031c3d-69e4-4c06-91fe-e9be0a3c173c   \n",
              "2  7f3f7fce-f2ec-4dfd-bac8-92dc7865a365  8fb18b66-f548-42a7-b394-c1be963cac29   \n",
              "\n",
              "  appVersion video_watch_dateTime                                feedId  \n",
              "0      2.2.2  2021-08-04 09:39:07  30134b9e-1b79-43fb-b0c5-373af9237b2c  \n",
              "1      2.2.1  2021-07-06 16:32:10  8078efe7-5bae-4528-9a66-b85904cc73ac  \n",
              "2      2.2.0  2021-12-06 01:42:02  6894af29-56cc-4b4a-8ee6-be9b3cb3e7f1  "
            ],
            "text/html": [
              "\n",
              "  <div id=\"df-44901f0d-cced-4993-bf17-4e9d5c4d20b9\">\n",
              "    <div class=\"colab-df-container\">\n",
              "      <div>\n",
              "<style scoped>\n",
              "    .dataframe tbody tr th:only-of-type {\n",
              "        vertical-align: middle;\n",
              "    }\n",
              "\n",
              "    .dataframe tbody tr th {\n",
              "        vertical-align: top;\n",
              "    }\n",
              "\n",
              "    .dataframe thead th {\n",
              "        text-align: right;\n",
              "    }\n",
              "</style>\n",
              "<table border=\"1\" class=\"dataframe\">\n",
              "  <thead>\n",
              "    <tr style=\"text-align: right;\">\n",
              "      <th></th>\n",
              "      <th>coordinates</th>\n",
              "      <th>os</th>\n",
              "      <th>video_watch_duration</th>\n",
              "      <th>videoId</th>\n",
              "      <th>userId</th>\n",
              "      <th>appVersion</th>\n",
              "      <th>video_watch_dateTime</th>\n",
              "      <th>feedId</th>\n",
              "    </tr>\n",
              "  </thead>\n",
              "  <tbody>\n",
              "    <tr>\n",
              "      <th>0</th>\n",
              "      <td>14.439490, 105.291233</td>\n",
              "      <td>iOS</td>\n",
              "      <td>3.95</td>\n",
              "      <td>722e110c-2f81-46aa-9c25-4d26fd77519f</td>\n",
              "      <td>317a2bc3-5f95-4d35-9a94-1f2f38424c4f</td>\n",
              "      <td>2.2.2</td>\n",
              "      <td>2021-08-04 09:39:07</td>\n",
              "      <td>30134b9e-1b79-43fb-b0c5-373af9237b2c</td>\n",
              "    </tr>\n",
              "    <tr>\n",
              "      <th>1</th>\n",
              "      <td>40.866935, -73.845013</td>\n",
              "      <td>iOS</td>\n",
              "      <td>5.95</td>\n",
              "      <td>cc10d153-37f9-42b5-8d78-2365908acf2b</td>\n",
              "      <td>db031c3d-69e4-4c06-91fe-e9be0a3c173c</td>\n",
              "      <td>2.2.1</td>\n",
              "      <td>2021-07-06 16:32:10</td>\n",
              "      <td>8078efe7-5bae-4528-9a66-b85904cc73ac</td>\n",
              "    </tr>\n",
              "    <tr>\n",
              "      <th>2</th>\n",
              "      <td>48.666850, 9.359456</td>\n",
              "      <td>iOS</td>\n",
              "      <td>0.69</td>\n",
              "      <td>7f3f7fce-f2ec-4dfd-bac8-92dc7865a365</td>\n",
              "      <td>8fb18b66-f548-42a7-b394-c1be963cac29</td>\n",
              "      <td>2.2.0</td>\n",
              "      <td>2021-12-06 01:42:02</td>\n",
              "      <td>6894af29-56cc-4b4a-8ee6-be9b3cb3e7f1</td>\n",
              "    </tr>\n",
              "  </tbody>\n",
              "</table>\n",
              "</div>\n",
              "      <button class=\"colab-df-convert\" onclick=\"convertToInteractive('df-44901f0d-cced-4993-bf17-4e9d5c4d20b9')\"\n",
              "              title=\"Convert this dataframe to an interactive table.\"\n",
              "              style=\"display:none;\">\n",
              "        \n",
              "  <svg xmlns=\"http://www.w3.org/2000/svg\" height=\"24px\"viewBox=\"0 0 24 24\"\n",
              "       width=\"24px\">\n",
              "    <path d=\"M0 0h24v24H0V0z\" fill=\"none\"/>\n",
              "    <path d=\"M18.56 5.44l.94 2.06.94-2.06 2.06-.94-2.06-.94-.94-2.06-.94 2.06-2.06.94zm-11 1L8.5 8.5l.94-2.06 2.06-.94-2.06-.94L8.5 2.5l-.94 2.06-2.06.94zm10 10l.94 2.06.94-2.06 2.06-.94-2.06-.94-.94-2.06-.94 2.06-2.06.94z\"/><path d=\"M17.41 7.96l-1.37-1.37c-.4-.4-.92-.59-1.43-.59-.52 0-1.04.2-1.43.59L10.3 9.45l-7.72 7.72c-.78.78-.78 2.05 0 2.83L4 21.41c.39.39.9.59 1.41.59.51 0 1.02-.2 1.41-.59l7.78-7.78 2.81-2.81c.8-.78.8-2.07 0-2.86zM5.41 20L4 18.59l7.72-7.72 1.47 1.35L5.41 20z\"/>\n",
              "  </svg>\n",
              "      </button>\n",
              "      \n",
              "  <style>\n",
              "    .colab-df-container {\n",
              "      display:flex;\n",
              "      flex-wrap:wrap;\n",
              "      gap: 12px;\n",
              "    }\n",
              "\n",
              "    .colab-df-convert {\n",
              "      background-color: #E8F0FE;\n",
              "      border: none;\n",
              "      border-radius: 50%;\n",
              "      cursor: pointer;\n",
              "      display: none;\n",
              "      fill: #1967D2;\n",
              "      height: 32px;\n",
              "      padding: 0 0 0 0;\n",
              "      width: 32px;\n",
              "    }\n",
              "\n",
              "    .colab-df-convert:hover {\n",
              "      background-color: #E2EBFA;\n",
              "      box-shadow: 0px 1px 2px rgba(60, 64, 67, 0.3), 0px 1px 3px 1px rgba(60, 64, 67, 0.15);\n",
              "      fill: #174EA6;\n",
              "    }\n",
              "\n",
              "    [theme=dark] .colab-df-convert {\n",
              "      background-color: #3B4455;\n",
              "      fill: #D2E3FC;\n",
              "    }\n",
              "\n",
              "    [theme=dark] .colab-df-convert:hover {\n",
              "      background-color: #434B5C;\n",
              "      box-shadow: 0px 1px 3px 1px rgba(0, 0, 0, 0.15);\n",
              "      filter: drop-shadow(0px 1px 2px rgba(0, 0, 0, 0.3));\n",
              "      fill: #FFFFFF;\n",
              "    }\n",
              "  </style>\n",
              "\n",
              "      <script>\n",
              "        const buttonEl =\n",
              "          document.querySelector('#df-44901f0d-cced-4993-bf17-4e9d5c4d20b9 button.colab-df-convert');\n",
              "        buttonEl.style.display =\n",
              "          google.colab.kernel.accessAllowed ? 'block' : 'none';\n",
              "\n",
              "        async function convertToInteractive(key) {\n",
              "          const element = document.querySelector('#df-44901f0d-cced-4993-bf17-4e9d5c4d20b9');\n",
              "          const dataTable =\n",
              "            await google.colab.kernel.invokeFunction('convertToInteractive',\n",
              "                                                     [key], {});\n",
              "          if (!dataTable) return;\n",
              "\n",
              "          const docLinkHtml = 'Like what you see? Visit the ' +\n",
              "            '<a target=\"_blank\" href=https://colab.research.google.com/notebooks/data_table.ipynb>data table notebook</a>'\n",
              "            + ' to learn more about interactive tables.';\n",
              "          element.innerHTML = '';\n",
              "          dataTable['output_type'] = 'display_data';\n",
              "          await google.colab.output.renderOutput(dataTable, element);\n",
              "          const docLink = document.createElement('div');\n",
              "          docLink.innerHTML = docLinkHtml;\n",
              "          element.appendChild(docLink);\n",
              "        }\n",
              "      </script>\n",
              "    </div>\n",
              "  </div>\n",
              "  "
            ]
          },
          "metadata": {},
          "execution_count": 9
        }
      ]
    },
    {
      "cell_type": "markdown",
      "source": [
        "## 2. Get city name from the Coordinate \n",
        "Reference: https://www.geeksforgeeks.org/get-the-city-state-and-country-names-from-latitude-and-longitude-using-python/\n",
        "\n",
        "https://towardsdatascience.com/reverse-geocoding-in-python-a915acf29eb6\n",
        "\n",
        "Ref: Approiximate geolocation\n",
        "https://stackoverflow.com/questions/59736682/find-nearest-location-coordinates-in-land-using-python"
      ],
      "metadata": {
        "id": "jI1-O-a02OeK"
      }
    },
    {
      "cell_type": "markdown",
      "source": [
        "### Since it took long time to convert coordinate to address, conversion operation was done in the local computer and simply read in the colab\n",
        "df1_wVideo_w_addr --> Original video_watch_duraion data frame with address\n",
        "\n",
        "- The coordinate-to-address conversion python code can be found in the same directory where thie colab notebook is\n",
        "  - Run **\"coor_to_address.py\"** on the local computer\n"
      ],
      "metadata": {
        "id": "XGlAS8xsV0gK"
      }
    },
    {
      "cell_type": "code",
      "source": [
        "df1_wVideos_addr = pd.read_csv('./gdrive/MyDrive/Dataset_Krikey/df1_wVideo_w_addr.csv',index_col = [0])\n",
        "df1_wVideos_addr.names = 'Watched_Videos'\n",
        "df1_wVideos_addr.rename(columns = {'duration':'video_watch_duration'}, inplace = True)\n",
        "df1_wVideos_addr.rename(columns = {'dateTime':'video_watch_dateTime'}, inplace = True)"
      ],
      "metadata": {
        "id": "V-eoPtIZHrEy"
      },
      "execution_count": null,
      "outputs": []
    },
    {
      "cell_type": "code",
      "source": [
        "df1_wVideos_addr.head(3)"
      ],
      "metadata": {
        "colab": {
          "base_uri": "https://localhost:8080/",
          "height": 395
        },
        "id": "7dT4DeceQsTG",
        "outputId": "1fc6b3fc-fd2e-439a-e27e-4a9849c464d6"
      },
      "execution_count": null,
      "outputs": [
        {
          "output_type": "execute_result",
          "data": {
            "text/plain": [
              "                        os  video_watch_duration  \\\n",
              "coordinates                                        \n",
              "14.439490, 105.291233  iOS                  3.95   \n",
              "40.866935, -73.845013  iOS                  5.95   \n",
              "48.666850, 9.359456    iOS                  0.69   \n",
              "\n",
              "                                                    videoId  \\\n",
              "coordinates                                                   \n",
              "14.439490, 105.291233  722e110c-2f81-46aa-9c25-4d26fd77519f   \n",
              "40.866935, -73.845013  cc10d153-37f9-42b5-8d78-2365908acf2b   \n",
              "48.666850, 9.359456    7f3f7fce-f2ec-4dfd-bac8-92dc7865a365   \n",
              "\n",
              "                                                     userId appVersion  \\\n",
              "coordinates                                                              \n",
              "14.439490, 105.291233  317a2bc3-5f95-4d35-9a94-1f2f38424c4f      2.2.2   \n",
              "40.866935, -73.845013  db031c3d-69e4-4c06-91fe-e9be0a3c173c      2.2.1   \n",
              "48.666850, 9.359456    8fb18b66-f548-42a7-b394-c1be963cac29      2.2.0   \n",
              "\n",
              "                      video_watch_dateTime  \\\n",
              "coordinates                                  \n",
              "14.439490, 105.291233  2021-08-04 09:39:07   \n",
              "40.866935, -73.845013  2021-07-06 16:32:10   \n",
              "48.666850, 9.359456    2021-12-06 01:42:02   \n",
              "\n",
              "                                                     feedId  \\\n",
              "coordinates                                                   \n",
              "14.439490, 105.291233  30134b9e-1b79-43fb-b0c5-373af9237b2c   \n",
              "40.866935, -73.845013  8078efe7-5bae-4528-9a66-b85904cc73ac   \n",
              "48.666850, 9.359456    6894af29-56cc-4b4a-8ee6-be9b3cb3e7f1   \n",
              "\n",
              "                                                                 address  \\\n",
              "coordinates                                                                \n",
              "14.439490, 105.291233        TH  Changwat Ubon Ratchathani    Na Chaluai   \n",
              "40.866935, -73.845013                   US  New York  Bronx  Eastchester   \n",
              "48.666850, 9.359456    DE  Baden-Wuerttemberg  Regierungsbezirk Stutt...   \n",
              "\n",
              "                      country  \n",
              "coordinates                    \n",
              "14.439490, 105.291233      TH  \n",
              "40.866935, -73.845013      US  \n",
              "48.666850, 9.359456        DE  "
            ],
            "text/html": [
              "\n",
              "  <div id=\"df-7605e1a0-19e9-4ecd-8abd-93d9868c89d2\">\n",
              "    <div class=\"colab-df-container\">\n",
              "      <div>\n",
              "<style scoped>\n",
              "    .dataframe tbody tr th:only-of-type {\n",
              "        vertical-align: middle;\n",
              "    }\n",
              "\n",
              "    .dataframe tbody tr th {\n",
              "        vertical-align: top;\n",
              "    }\n",
              "\n",
              "    .dataframe thead th {\n",
              "        text-align: right;\n",
              "    }\n",
              "</style>\n",
              "<table border=\"1\" class=\"dataframe\">\n",
              "  <thead>\n",
              "    <tr style=\"text-align: right;\">\n",
              "      <th></th>\n",
              "      <th>os</th>\n",
              "      <th>video_watch_duration</th>\n",
              "      <th>videoId</th>\n",
              "      <th>userId</th>\n",
              "      <th>appVersion</th>\n",
              "      <th>video_watch_dateTime</th>\n",
              "      <th>feedId</th>\n",
              "      <th>address</th>\n",
              "      <th>country</th>\n",
              "    </tr>\n",
              "    <tr>\n",
              "      <th>coordinates</th>\n",
              "      <th></th>\n",
              "      <th></th>\n",
              "      <th></th>\n",
              "      <th></th>\n",
              "      <th></th>\n",
              "      <th></th>\n",
              "      <th></th>\n",
              "      <th></th>\n",
              "      <th></th>\n",
              "    </tr>\n",
              "  </thead>\n",
              "  <tbody>\n",
              "    <tr>\n",
              "      <th>14.439490, 105.291233</th>\n",
              "      <td>iOS</td>\n",
              "      <td>3.95</td>\n",
              "      <td>722e110c-2f81-46aa-9c25-4d26fd77519f</td>\n",
              "      <td>317a2bc3-5f95-4d35-9a94-1f2f38424c4f</td>\n",
              "      <td>2.2.2</td>\n",
              "      <td>2021-08-04 09:39:07</td>\n",
              "      <td>30134b9e-1b79-43fb-b0c5-373af9237b2c</td>\n",
              "      <td>TH  Changwat Ubon Ratchathani    Na Chaluai</td>\n",
              "      <td>TH</td>\n",
              "    </tr>\n",
              "    <tr>\n",
              "      <th>40.866935, -73.845013</th>\n",
              "      <td>iOS</td>\n",
              "      <td>5.95</td>\n",
              "      <td>cc10d153-37f9-42b5-8d78-2365908acf2b</td>\n",
              "      <td>db031c3d-69e4-4c06-91fe-e9be0a3c173c</td>\n",
              "      <td>2.2.1</td>\n",
              "      <td>2021-07-06 16:32:10</td>\n",
              "      <td>8078efe7-5bae-4528-9a66-b85904cc73ac</td>\n",
              "      <td>US  New York  Bronx  Eastchester</td>\n",
              "      <td>US</td>\n",
              "    </tr>\n",
              "    <tr>\n",
              "      <th>48.666850, 9.359456</th>\n",
              "      <td>iOS</td>\n",
              "      <td>0.69</td>\n",
              "      <td>7f3f7fce-f2ec-4dfd-bac8-92dc7865a365</td>\n",
              "      <td>8fb18b66-f548-42a7-b394-c1be963cac29</td>\n",
              "      <td>2.2.0</td>\n",
              "      <td>2021-12-06 01:42:02</td>\n",
              "      <td>6894af29-56cc-4b4a-8ee6-be9b3cb3e7f1</td>\n",
              "      <td>DE  Baden-Wuerttemberg  Regierungsbezirk Stutt...</td>\n",
              "      <td>DE</td>\n",
              "    </tr>\n",
              "  </tbody>\n",
              "</table>\n",
              "</div>\n",
              "      <button class=\"colab-df-convert\" onclick=\"convertToInteractive('df-7605e1a0-19e9-4ecd-8abd-93d9868c89d2')\"\n",
              "              title=\"Convert this dataframe to an interactive table.\"\n",
              "              style=\"display:none;\">\n",
              "        \n",
              "  <svg xmlns=\"http://www.w3.org/2000/svg\" height=\"24px\"viewBox=\"0 0 24 24\"\n",
              "       width=\"24px\">\n",
              "    <path d=\"M0 0h24v24H0V0z\" fill=\"none\"/>\n",
              "    <path d=\"M18.56 5.44l.94 2.06.94-2.06 2.06-.94-2.06-.94-.94-2.06-.94 2.06-2.06.94zm-11 1L8.5 8.5l.94-2.06 2.06-.94-2.06-.94L8.5 2.5l-.94 2.06-2.06.94zm10 10l.94 2.06.94-2.06 2.06-.94-2.06-.94-.94-2.06-.94 2.06-2.06.94z\"/><path d=\"M17.41 7.96l-1.37-1.37c-.4-.4-.92-.59-1.43-.59-.52 0-1.04.2-1.43.59L10.3 9.45l-7.72 7.72c-.78.78-.78 2.05 0 2.83L4 21.41c.39.39.9.59 1.41.59.51 0 1.02-.2 1.41-.59l7.78-7.78 2.81-2.81c.8-.78.8-2.07 0-2.86zM5.41 20L4 18.59l7.72-7.72 1.47 1.35L5.41 20z\"/>\n",
              "  </svg>\n",
              "      </button>\n",
              "      \n",
              "  <style>\n",
              "    .colab-df-container {\n",
              "      display:flex;\n",
              "      flex-wrap:wrap;\n",
              "      gap: 12px;\n",
              "    }\n",
              "\n",
              "    .colab-df-convert {\n",
              "      background-color: #E8F0FE;\n",
              "      border: none;\n",
              "      border-radius: 50%;\n",
              "      cursor: pointer;\n",
              "      display: none;\n",
              "      fill: #1967D2;\n",
              "      height: 32px;\n",
              "      padding: 0 0 0 0;\n",
              "      width: 32px;\n",
              "    }\n",
              "\n",
              "    .colab-df-convert:hover {\n",
              "      background-color: #E2EBFA;\n",
              "      box-shadow: 0px 1px 2px rgba(60, 64, 67, 0.3), 0px 1px 3px 1px rgba(60, 64, 67, 0.15);\n",
              "      fill: #174EA6;\n",
              "    }\n",
              "\n",
              "    [theme=dark] .colab-df-convert {\n",
              "      background-color: #3B4455;\n",
              "      fill: #D2E3FC;\n",
              "    }\n",
              "\n",
              "    [theme=dark] .colab-df-convert:hover {\n",
              "      background-color: #434B5C;\n",
              "      box-shadow: 0px 1px 3px 1px rgba(0, 0, 0, 0.15);\n",
              "      filter: drop-shadow(0px 1px 2px rgba(0, 0, 0, 0.3));\n",
              "      fill: #FFFFFF;\n",
              "    }\n",
              "  </style>\n",
              "\n",
              "      <script>\n",
              "        const buttonEl =\n",
              "          document.querySelector('#df-7605e1a0-19e9-4ecd-8abd-93d9868c89d2 button.colab-df-convert');\n",
              "        buttonEl.style.display =\n",
              "          google.colab.kernel.accessAllowed ? 'block' : 'none';\n",
              "\n",
              "        async function convertToInteractive(key) {\n",
              "          const element = document.querySelector('#df-7605e1a0-19e9-4ecd-8abd-93d9868c89d2');\n",
              "          const dataTable =\n",
              "            await google.colab.kernel.invokeFunction('convertToInteractive',\n",
              "                                                     [key], {});\n",
              "          if (!dataTable) return;\n",
              "\n",
              "          const docLinkHtml = 'Like what you see? Visit the ' +\n",
              "            '<a target=\"_blank\" href=https://colab.research.google.com/notebooks/data_table.ipynb>data table notebook</a>'\n",
              "            + ' to learn more about interactive tables.';\n",
              "          element.innerHTML = '';\n",
              "          dataTable['output_type'] = 'display_data';\n",
              "          await google.colab.output.renderOutput(dataTable, element);\n",
              "          const docLink = document.createElement('div');\n",
              "          docLink.innerHTML = docLinkHtml;\n",
              "          element.appendChild(docLink);\n",
              "        }\n",
              "      </script>\n",
              "    </div>\n",
              "  </div>\n",
              "  "
            ]
          },
          "metadata": {},
          "execution_count": 11
        }
      ]
    },
    {
      "cell_type": "markdown",
      "source": [
        "# The first level individual dataframe analysis "
      ],
      "metadata": {
        "id": "9SpEnl6RyXXv"
      }
    },
    {
      "cell_type": "markdown",
      "source": [
        "## Join all the tables together for easier data analysis\n",
        "- Instead of original watched video dataframe, locally processed watched video dataframe including addressa and contry code will be used.\n",
        "\n",
        "df1_wVideos --> df1_wVideos_addr"
      ],
      "metadata": {
        "id": "Cu22NUT_ykYF"
      }
    },
    {
      "cell_type": "code",
      "source": [
        "df1_level_1 = pd.merge(df1_wVideos_addr, df1_videos, left_on='videoId',right_on='id').drop(columns='id')\n",
        "print(tabulate(df1_level_1.head(3), headers='keys', tablefmt='psql'))\n",
        "df1_level_2 = pd.merge(df1_level_1, df1_users, left_on='userId', right_on ='id').drop(columns='id')\n",
        "print(tabulate(df1_level_2.head(3), headers='keys', tablefmt='psql'))\n",
        "df1_level_3 = pd.merge(df1_level_2, df1_feeds, left_on='feedId', right_on ='id').drop(columns='id')\n",
        "print(tabulate(df1_level_3.head(3), headers='keys', tablefmt='psql'))"
      ],
      "metadata": {
        "colab": {
          "base_uri": "https://localhost:8080/"
        },
        "id": "rsSlwV7amBWs",
        "outputId": "ad063180-f396-4e55-a941-8f75a5cac394"
      },
      "execution_count": null,
      "outputs": [
        {
          "output_type": "stream",
          "name": "stdout",
          "text": [
            "+----+---------+------------------------+--------------------------------------+--------------------------------------+--------------+------------------------+--------------------------------------+---------------------------------------------+-----------+--------------------------------------+--------------------------------------+--------------------------------------+------------------+--------------------------------------+---------------------+--------------+--------------------------------------+---------+\n",
            "|    | os      |   video_watch_duration | videoId                              | userId                               | appVersion   | video_watch_dateTime   | feedId                               | address                                     | country   | attribute_id                         | music_id                             | animation_id                         |   video_duration | creator                              | video_created_at    |   num_shares | game_id                              | is_ar   |\n",
            "|----+---------+------------------------+--------------------------------------+--------------------------------------+--------------+------------------------+--------------------------------------+---------------------------------------------+-----------+--------------------------------------+--------------------------------------+--------------------------------------+------------------+--------------------------------------+---------------------+--------------+--------------------------------------+---------|\n",
            "|  0 | iOS     |                   3.95 | 722e110c-2f81-46aa-9c25-4d26fd77519f | 317a2bc3-5f95-4d35-9a94-1f2f38424c4f | 2.2.2        | 2021-08-04 09:39:07    | 30134b9e-1b79-43fb-b0c5-373af9237b2c | TH  Changwat Ubon Ratchathani    Na Chaluai | TH        | 30fa7949-1cb6-44b1-9c7b-42c7421fc504 | 19e4db13-d854-4913-a8ca-3612ee1a6071 | ab5dc9f1-deb4-44d4-88ff-62e473a060f4 |             3.95 | 43e50511-d2be-4b64-b75f-3d1e7bc33fe9 | 2021-07-23 22:53:22 |           16 | 8bd4c7be-fe87-45ad-990d-d131cd3d9c77 | False   |\n",
            "|  1 | Android |                   3.95 | 722e110c-2f81-46aa-9c25-4d26fd77519f | 98c7b0e1-b23c-450e-a023-1cf7c274603c | 2.2.1        | 2021-09-15 23:24:58    | 8078efe7-5bae-4528-9a66-b85904cc73ac | RU  Krasnodarskiy    Goryachiy Klyuch       | RU        | 30fa7949-1cb6-44b1-9c7b-42c7421fc504 | 19e4db13-d854-4913-a8ca-3612ee1a6071 | ab5dc9f1-deb4-44d4-88ff-62e473a060f4 |             3.95 | 43e50511-d2be-4b64-b75f-3d1e7bc33fe9 | 2021-07-23 22:53:22 |           16 | 8bd4c7be-fe87-45ad-990d-d131cd3d9c77 | False   |\n",
            "|  2 | iOS     |                   3.95 | 722e110c-2f81-46aa-9c25-4d26fd77519f | 1a1a700f-a044-406f-82b8-c9e4274c1e16 | 2.1.1        | 2021-12-06 09:10:19    | 42568c8a-efbe-4293-81a3-513e33094ade | IN  Gujarat  Amreli  Damnagar               | IN        | 30fa7949-1cb6-44b1-9c7b-42c7421fc504 | 19e4db13-d854-4913-a8ca-3612ee1a6071 | ab5dc9f1-deb4-44d4-88ff-62e473a060f4 |             3.95 | 43e50511-d2be-4b64-b75f-3d1e7bc33fe9 | 2021-07-23 22:53:22 |           16 | 8bd4c7be-fe87-45ad-990d-d131cd3d9c77 | False   |\n",
            "+----+---------+------------------------+--------------------------------------+--------------------------------------+--------------+------------------------+--------------------------------------+---------------------------------------------+-----------+--------------------------------------+--------------------------------------+--------------------------------------+------------------+--------------------------------------+---------------------+--------------+--------------------------------------+---------+\n",
            "+----+---------+------------------------+--------------------------------------+--------------------------------------+--------------+------------------------+--------------------------------------+---------------------------------------------+-----------+--------------------------------------+--------------------------------------+--------------------------------------+------------------+--------------------------------------+---------------------+--------------+--------------------------------------+---------+---------------------+---------+---------------------------+\n",
            "|    | os      |   video_watch_duration | videoId                              | userId                               | appVersion   | video_watch_dateTime   | feedId                               | address                                     | country   | attribute_id                         | music_id                             | animation_id                         |   video_duration | creator                              | video_created_at    |   num_shares | game_id                              | is_ar   | user_created_at     | class   | coordinates               |\n",
            "|----+---------+------------------------+--------------------------------------+--------------------------------------+--------------+------------------------+--------------------------------------+---------------------------------------------+-----------+--------------------------------------+--------------------------------------+--------------------------------------+------------------+--------------------------------------+---------------------+--------------+--------------------------------------+---------+---------------------+---------+---------------------------|\n",
            "|  0 | iOS     |                   3.95 | 722e110c-2f81-46aa-9c25-4d26fd77519f | 317a2bc3-5f95-4d35-9a94-1f2f38424c4f | 2.2.2        | 2021-08-04 09:39:07    | 30134b9e-1b79-43fb-b0c5-373af9237b2c | TH  Changwat Ubon Ratchathani    Na Chaluai | TH        | 30fa7949-1cb6-44b1-9c7b-42c7421fc504 | 19e4db13-d854-4913-a8ca-3612ee1a6071 | ab5dc9f1-deb4-44d4-88ff-62e473a060f4 |             3.95 | 43e50511-d2be-4b64-b75f-3d1e7bc33fe9 | 2021-07-23 22:53:22 |           16 | 8bd4c7be-fe87-45ad-990d-d131cd3d9c77 | False   | 2021-07-23 22:05:36 | Creator | ('14.64056', '104.64992') |\n",
            "|  1 | Android |                   5.69 | f207b132-d36b-4c6d-90f3-651dc998a576 | 317a2bc3-5f95-4d35-9a94-1f2f38424c4f | 3.0.1        | 2021-12-07 10:08:50    | c9d59470-c4ee-43ff-831d-b52508c8d848 | TH  Sisaket    Kantharalak                  | TH        | 25e7fab9-abfb-4a74-a8cb-c3adbc6e3531 | c3721b09-6896-465a-8e13-4d73efd06874 | 6d7a0545-0bca-4bf4-a306-931e57d8ffe2 |             6.24 | 53274ab6-2671-433c-87d9-87a4ada67987 | 2021-10-17 10:46:31 |            3 | 2609b6b5-3a08-451e-bce5-75fe506559d2 | False   | 2021-07-23 22:05:36 | Creator | ('14.64056', '104.64992') |\n",
            "|  2 | iOS     |                   4.84 | 2e1b604f-8943-455e-93f3-e3573733169c | 317a2bc3-5f95-4d35-9a94-1f2f38424c4f | 2.2.2        | 2021-12-03 14:34:27    | 30134b9e-1b79-43fb-b0c5-373af9237b2c | TH  Sisaket    Non Kho                      | TH        | 80f5b187-f6e6-40f2-9b6e-fe62b67049a8 | c3721b09-6896-465a-8e13-4d73efd06874 | 2029f213-1719-4108-8125-25d465cf475d |             5.26 | 862f7285-cef6-4d2b-8247-735779c2532e | 2021-09-26 02:27:20 |           19 | 6ca0f645-a16b-42b0-9dc2-2ae952c83591 | True    | 2021-07-23 22:05:36 | Creator | ('14.64056', '104.64992') |\n",
            "+----+---------+------------------------+--------------------------------------+--------------------------------------+--------------+------------------------+--------------------------------------+---------------------------------------------+-----------+--------------------------------------+--------------------------------------+--------------------------------------+------------------+--------------------------------------+---------------------+--------------+--------------------------------------+---------+---------------------+---------+---------------------------+\n",
            "+----+---------+------------------------+--------------------------------------+--------------------------------------+--------------+------------------------+--------------------------------------+---------------------------------------------+-----------+--------------------------------------+--------------------------------------+--------------------------------------+------------------+--------------------------------------+---------------------+--------------+--------------------------------------+---------+---------------------+---------+---------------------------+-------------+\n",
            "|    | os      |   video_watch_duration | videoId                              | userId                               | appVersion   | video_watch_dateTime   | feedId                               | address                                     | country   | attribute_id                         | music_id                             | animation_id                         |   video_duration | creator                              | video_created_at    |   num_shares | game_id                              | is_ar   | user_created_at     | class   | coordinates               | feed_name   |\n",
            "|----+---------+------------------------+--------------------------------------+--------------------------------------+--------------+------------------------+--------------------------------------+---------------------------------------------+-----------+--------------------------------------+--------------------------------------+--------------------------------------+------------------+--------------------------------------+---------------------+--------------+--------------------------------------+---------+---------------------+---------+---------------------------+-------------|\n",
            "|  0 | iOS     |                   3.95 | 722e110c-2f81-46aa-9c25-4d26fd77519f | 317a2bc3-5f95-4d35-9a94-1f2f38424c4f | 2.2.2        | 2021-08-04 09:39:07    | 30134b9e-1b79-43fb-b0c5-373af9237b2c | TH  Changwat Ubon Ratchathani    Na Chaluai | TH        | 30fa7949-1cb6-44b1-9c7b-42c7421fc504 | 19e4db13-d854-4913-a8ca-3612ee1a6071 | ab5dc9f1-deb4-44d4-88ff-62e473a060f4 |             3.95 | 43e50511-d2be-4b64-b75f-3d1e7bc33fe9 | 2021-07-23 22:53:22 |           16 | 8bd4c7be-fe87-45ad-990d-d131cd3d9c77 | False   | 2021-07-23 22:05:36 | Creator | ('14.64056', '104.64992') | beaches     |\n",
            "|  1 | iOS     |                   4.84 | 2e1b604f-8943-455e-93f3-e3573733169c | 317a2bc3-5f95-4d35-9a94-1f2f38424c4f | 2.2.2        | 2021-12-03 14:34:27    | 30134b9e-1b79-43fb-b0c5-373af9237b2c | TH  Sisaket    Non Kho                      | TH        | 80f5b187-f6e6-40f2-9b6e-fe62b67049a8 | c3721b09-6896-465a-8e13-4d73efd06874 | 2029f213-1719-4108-8125-25d465cf475d |             5.26 | 862f7285-cef6-4d2b-8247-735779c2532e | 2021-09-26 02:27:20 |           19 | 6ca0f645-a16b-42b0-9dc2-2ae952c83591 | True    | 2021-07-23 22:05:36 | Creator | ('14.64056', '104.64992') | beaches     |\n",
            "|  2 | Android |                   0.2  | 3cf39273-49e7-4806-83b5-4b090021fe55 | 317a2bc3-5f95-4d35-9a94-1f2f38424c4f | 3.0.0        | 2021-10-05 09:55:17    | 30134b9e-1b79-43fb-b0c5-373af9237b2c | TH  Surin    Bua Chet                       | TH        | 3390e253-7815-4a3c-8169-fd2ab532e166 | 1f80192e-3bff-41b8-b272-7062b9d7b6de | 17dab81c-6180-4a4b-b539-91978a726cfd |             2.6  | 787839f4-0bcf-4dcf-919d-d399e7559dc7 | 2021-06-11 08:59:23 |           15 | 4d54f6ab-cd8f-43a5-9be0-c497c2c32d24 | False   | 2021-07-23 22:05:36 | Creator | ('14.64056', '104.64992') | beaches     |\n",
            "+----+---------+------------------------+--------------------------------------+--------------------------------------+--------------+------------------------+--------------------------------------+---------------------------------------------+-----------+--------------------------------------+--------------------------------------+--------------------------------------+------------------+--------------------------------------+---------------------+--------------+--------------------------------------+---------+---------------------+---------+---------------------------+-------------+\n"
          ]
        }
      ]
    },
    {
      "cell_type": "markdown",
      "source": [
        "## User OS, Platform type, class, feed type check"
      ],
      "metadata": {
        "id": "mXDaSBW35m8o"
      }
    },
    {
      "cell_type": "code",
      "source": [
        "def pie_plot(fig, ax,  df, col_name, figure_position_row, figure_position_column, figure_title, filter_top_count = None):\n",
        "    test =  df[col_name].value_counts().to_frame().reset_index()\n",
        "    if filter_top_count:\n",
        "        test =  test.iloc[1:filter_top_count,:]   \n",
        "    test.rename(columns = {col_name: 'count'}, inplace = True)    \n",
        "    test.rename(columns = {'index': col_name}, inplace = True)    \n",
        "    ax[figure_position_row,figure_position_column].pie(test['count'], labels = test[col_name].to_list(), startangle = 90, autopct = '%1.1f%%')\n",
        "    ax[figure_position_row,figure_position_column].set_title(figure_title, fontsize=15)"
      ],
      "metadata": {
        "id": "vOlHue2UdPpB"
      },
      "execution_count": null,
      "outputs": []
    },
    {
      "cell_type": "code",
      "source": [
        "fig, ax = plt.subplots(2,3, figsize = (20,12))\n",
        "\n",
        "pie_plot(fig, ax, df1_level_3, 'os', 0, 0, 'OS Usage')\n",
        "pie_plot(fig, ax, df1_level_3, 'is_ar', 0, 1, 'AR vs non-AR')\n",
        "pie_plot(fig, ax, df1_level_3, 'class', 0, 2, 'class')\n",
        "pie_plot(fig, ax, df1_level_3, 'feed_name', 1, 0, 'feed_name')\n",
        "pie_plot(fig, ax, df1_level_3, 'country', 1, 1, 'Top 10 country', 10)\n",
        "ax[-1, -1].axis('off')\n",
        "plt.show()"
      ],
      "metadata": {
        "colab": {
          "base_uri": "https://localhost:8080/",
          "height": 619
        },
        "id": "iEpaBH_xSrGE",
        "outputId": "b99f3674-b1da-49f5-8e6d-9946c4a87b94"
      },
      "execution_count": null,
      "outputs": [
        {
          "output_type": "display_data",
          "data": {
            "text/plain": [
              "<Figure size 1440x864 with 6 Axes>"
            ],
            "image/png": "[encoded data removed]"
          },
          "metadata": {
            "needs_background": "light"
          }
        }
      ]
    },
    {
      "cell_type": "markdown",
      "source": [
        "## Histogram plot for numerical variable\n",
        "- Video watch duration \n",
        "- video contents length distribution\n",
        "- Number of shares"
      ],
      "metadata": {
        "id": "hSpfnwNhUcQT"
      }
    },
    {
      "cell_type": "code",
      "source": [
        "fig, ax = plt.subplots(1,3, figsize = (25,6))\n",
        "\n",
        "sns.histplot(ax = ax[0],data = df1_level_3, x='video_watch_duration', kde=True)\n",
        "ax[0].set_title('Watched video duration distribution', fontsize=15)\n",
        "ax[0].set_xlabel('time duration in minute', fontsize=12)\n",
        "sns.histplot(ax = ax[1],data = df1_level_3, x='video_duration', kde=True)\n",
        "ax[1].set_title('Video contents duration distribution', fontsize=15)\n",
        "ax[1].set_xlabel('time duration in minute', fontsize=12)\n",
        "sns.histplot(ax = ax[2],data = df1_level_3, x='num_shares', kde=True)\n",
        "ax[2].set_title('num_shares distribution', fontsize=15)\n",
        "ax[2].set_xlabel('number of share count', fontsize=12)\n",
        "\n",
        "plt.show()"
      ],
      "metadata": {
        "colab": {
          "base_uri": "https://localhost:8080/",
          "height": 286
        },
        "id": "tM5D6jKoSlNK",
        "outputId": "64ad12bc-3f7f-4e5a-ff23-b33da4cc54bc"
      },
      "execution_count": null,
      "outputs": [
        {
          "output_type": "display_data",
          "data": {
            "text/plain": [
              "<Figure size 1800x432 with 3 Axes>"
            ],
            "image/png": "[encoded data removed]"
          },
          "metadata": {
            "needs_background": "light"
          }
        }
      ]
    },
    {
      "cell_type": "markdown",
      "source": [
        "## Encode Categorical variable based on cat.codes in pandas\n",
        "- This method assigns unique integer to the categorical data\n",
        "\n",
        "'videoId' ,'country', 'attribute_id', 'animation_id', 'music_id', 'creator',\n",
        "'game_id', 'feedId' , 'userId', 'is_ar', 'class'\n",
        "\n",
        "- Time and address are not included in this analysis"
      ],
      "metadata": {
        "id": "Z7O3yRVhQeAq"
      }
    },
    {
      "cell_type": "code",
      "source": [
        "df_cat = df1_level_3[['videoId','attribute_id','music_id','creator','game_id','feedId','country','os','feed_name','userId','is_ar','class']].astype('category')\n",
        "df_cat_coded = df_cat.copy('deep')\n",
        "for i in range(len(df_cat.columns)):\n",
        "  df_cat_coded.iloc[:, i] = df_cat.iloc[:, i].cat.codes\n"
      ],
      "metadata": {
        "id": "VEp26AVAUv-3"
      },
      "execution_count": null,
      "outputs": []
    },
    {
      "cell_type": "code",
      "source": [
        "df_cat_coded.head(3)"
      ],
      "metadata": {
        "colab": {
          "base_uri": "https://localhost:8080/",
          "height": 143
        },
        "id": "ca0eUoBYYElw",
        "outputId": "8f2296b0-3207-4890-85b7-e367b4252ba0"
      },
      "execution_count": null,
      "outputs": [
        {
          "output_type": "execute_result",
          "data": {
            "text/plain": [
              "   videoId  attribute_id  music_id  creator  game_id  feedId  country  os  \\\n",
              "0     2137             3         0      256        4       1      122   1   \n",
              "1      881             8         6      520        3       1      122   1   \n",
              "2     1160             4         1      464        1       1      122   0   \n",
              "\n",
              "   feed_name  userId  is_ar  class  \n",
              "0          0     186      0      0  \n",
              "1          0     186      1      0  \n",
              "2          0     186      0      0  "
            ],
            "text/html": [
              "\n",
              "  <div id=\"df-a38295d5-651b-4d39-8682-caab5b3b019d\">\n",
              "    <div class=\"colab-df-container\">\n",
              "      <div>\n",
              "<style scoped>\n",
              "    .dataframe tbody tr th:only-of-type {\n",
              "        vertical-align: middle;\n",
              "    }\n",
              "\n",
              "    .dataframe tbody tr th {\n",
              "        vertical-align: top;\n",
              "    }\n",
              "\n",
              "    .dataframe thead th {\n",
              "        text-align: right;\n",
              "    }\n",
              "</style>\n",
              "<table border=\"1\" class=\"dataframe\">\n",
              "  <thead>\n",
              "    <tr style=\"text-align: right;\">\n",
              "      <th></th>\n",
              "      <th>videoId</th>\n",
              "      <th>attribute_id</th>\n",
              "      <th>music_id</th>\n",
              "      <th>creator</th>\n",
              "      <th>game_id</th>\n",
              "      <th>feedId</th>\n",
              "      <th>country</th>\n",
              "      <th>os</th>\n",
              "      <th>feed_name</th>\n",
              "      <th>userId</th>\n",
              "      <th>is_ar</th>\n",
              "      <th>class</th>\n",
              "    </tr>\n",
              "  </thead>\n",
              "  <tbody>\n",
              "    <tr>\n",
              "      <th>0</th>\n",
              "      <td>2137</td>\n",
              "      <td>3</td>\n",
              "      <td>0</td>\n",
              "      <td>256</td>\n",
              "      <td>4</td>\n",
              "      <td>1</td>\n",
              "      <td>122</td>\n",
              "      <td>1</td>\n",
              "      <td>0</td>\n",
              "      <td>186</td>\n",
              "      <td>0</td>\n",
              "      <td>0</td>\n",
              "    </tr>\n",
              "    <tr>\n",
              "      <th>1</th>\n",
              "      <td>881</td>\n",
              "      <td>8</td>\n",
              "      <td>6</td>\n",
              "      <td>520</td>\n",
              "      <td>3</td>\n",
              "      <td>1</td>\n",
              "      <td>122</td>\n",
              "      <td>1</td>\n",
              "      <td>0</td>\n",
              "      <td>186</td>\n",
              "      <td>1</td>\n",
              "      <td>0</td>\n",
              "    </tr>\n",
              "    <tr>\n",
              "      <th>2</th>\n",
              "      <td>1160</td>\n",
              "      <td>4</td>\n",
              "      <td>1</td>\n",
              "      <td>464</td>\n",
              "      <td>1</td>\n",
              "      <td>1</td>\n",
              "      <td>122</td>\n",
              "      <td>0</td>\n",
              "      <td>0</td>\n",
              "      <td>186</td>\n",
              "      <td>0</td>\n",
              "      <td>0</td>\n",
              "    </tr>\n",
              "  </tbody>\n",
              "</table>\n",
              "</div>\n",
              "      <button class=\"colab-df-convert\" onclick=\"convertToInteractive('df-a38295d5-651b-4d39-8682-caab5b3b019d')\"\n",
              "              title=\"Convert this dataframe to an interactive table.\"\n",
              "              style=\"display:none;\">\n",
              "        \n",
              "  <svg xmlns=\"http://www.w3.org/2000/svg\" height=\"24px\"viewBox=\"0 0 24 24\"\n",
              "       width=\"24px\">\n",
              "    <path d=\"M0 0h24v24H0V0z\" fill=\"none\"/>\n",
              "    <path d=\"M18.56 5.44l.94 2.06.94-2.06 2.06-.94-2.06-.94-.94-2.06-.94 2.06-2.06.94zm-11 1L8.5 8.5l.94-2.06 2.06-.94-2.06-.94L8.5 2.5l-.94 2.06-2.06.94zm10 10l.94 2.06.94-2.06 2.06-.94-2.06-.94-.94-2.06-.94 2.06-2.06.94z\"/><path d=\"M17.41 7.96l-1.37-1.37c-.4-.4-.92-.59-1.43-.59-.52 0-1.04.2-1.43.59L10.3 9.45l-7.72 7.72c-.78.78-.78 2.05 0 2.83L4 21.41c.39.39.9.59 1.41.59.51 0 1.02-.2 1.41-.59l7.78-7.78 2.81-2.81c.8-.78.8-2.07 0-2.86zM5.41 20L4 18.59l7.72-7.72 1.47 1.35L5.41 20z\"/>\n",
              "  </svg>\n",
              "      </button>\n",
              "      \n",
              "  <style>\n",
              "    .colab-df-container {\n",
              "      display:flex;\n",
              "      flex-wrap:wrap;\n",
              "      gap: 12px;\n",
              "    }\n",
              "\n",
              "    .colab-df-convert {\n",
              "      background-color: #E8F0FE;\n",
              "      border: none;\n",
              "      border-radius: 50%;\n",
              "      cursor: pointer;\n",
              "      display: none;\n",
              "      fill: #1967D2;\n",
              "      height: 32px;\n",
              "      padding: 0 0 0 0;\n",
              "      width: 32px;\n",
              "    }\n",
              "\n",
              "    .colab-df-convert:hover {\n",
              "      background-color: #E2EBFA;\n",
              "      box-shadow: 0px 1px 2px rgba(60, 64, 67, 0.3), 0px 1px 3px 1px rgba(60, 64, 67, 0.15);\n",
              "      fill: #174EA6;\n",
              "    }\n",
              "\n",
              "    [theme=dark] .colab-df-convert {\n",
              "      background-color: #3B4455;\n",
              "      fill: #D2E3FC;\n",
              "    }\n",
              "\n",
              "    [theme=dark] .colab-df-convert:hover {\n",
              "      background-color: #434B5C;\n",
              "      box-shadow: 0px 1px 3px 1px rgba(0, 0, 0, 0.15);\n",
              "      filter: drop-shadow(0px 1px 2px rgba(0, 0, 0, 0.3));\n",
              "      fill: #FFFFFF;\n",
              "    }\n",
              "  </style>\n",
              "\n",
              "      <script>\n",
              "        const buttonEl =\n",
              "          document.querySelector('#df-a38295d5-651b-4d39-8682-caab5b3b019d button.colab-df-convert');\n",
              "        buttonEl.style.display =\n",
              "          google.colab.kernel.accessAllowed ? 'block' : 'none';\n",
              "\n",
              "        async function convertToInteractive(key) {\n",
              "          const element = document.querySelector('#df-a38295d5-651b-4d39-8682-caab5b3b019d');\n",
              "          const dataTable =\n",
              "            await google.colab.kernel.invokeFunction('convertToInteractive',\n",
              "                                                     [key], {});\n",
              "          if (!dataTable) return;\n",
              "\n",
              "          const docLinkHtml = 'Like what you see? Visit the ' +\n",
              "            '<a target=\"_blank\" href=https://colab.research.google.com/notebooks/data_table.ipynb>data table notebook</a>'\n",
              "            + ' to learn more about interactive tables.';\n",
              "          element.innerHTML = '';\n",
              "          dataTable['output_type'] = 'display_data';\n",
              "          await google.colab.output.renderOutput(dataTable, element);\n",
              "          const docLink = document.createElement('div');\n",
              "          docLink.innerHTML = docLinkHtml;\n",
              "          element.appendChild(docLink);\n",
              "        }\n",
              "      </script>\n",
              "    </div>\n",
              "  </div>\n",
              "  "
            ]
          },
          "metadata": {},
          "execution_count": 17
        }
      ]
    },
    {
      "cell_type": "markdown",
      "source": [
        "## Histogram plot for categorical variable"
      ],
      "metadata": {
        "id": "zS3690ddT4SF"
      }
    },
    {
      "cell_type": "code",
      "source": [
        "def hist_plot(fig, ax,  df, col_name, figure_position_row, figure_position_column):\n",
        "    sns.histplot(ax = ax[figure_position_row,figure_position_column], data = df, x = col_name, kde=True)\n",
        "    ax[figure_position_row,figure_position_column].set_title(col_name, fontsize=15)\n",
        "      "
      ],
      "metadata": {
        "id": "-2y5MaxYY45b"
      },
      "execution_count": null,
      "outputs": []
    },
    {
      "cell_type": "code",
      "source": [
        "n_row = 2\n",
        "n_col = 6\n",
        "fig, ax = plt.subplots(n_row,n_col, figsize = (30,10))\n",
        "for i in range(len(df_cat_coded.columns)):\n",
        "  hist_plot(fig, ax,  df_cat_coded, df_cat_coded.columns[i], int(i / (np.round(len(df_cat.columns)/2))) , int(i % (n_col)) )\n",
        "\n",
        "ax[-1, -1].axis('off')\n",
        "plt.show()"
      ],
      "metadata": {
        "id": "d6XdY-51T4sz"
      },
      "execution_count": null,
      "outputs": []
    },
    {
      "cell_type": "markdown",
      "source": [
        "# Correlation analysis\n"
      ],
      "metadata": {
        "id": "_kNhiH2sa-ta"
      }
    },
    {
      "cell_type": "markdown",
      "source": [
        "## Correlation all data sets (numerical + Coded Categorical)"
      ],
      "metadata": {
        "id": "WhnY3WRgeYwj"
      }
    },
    {
      "cell_type": "code",
      "source": [
        "## Concatenate numerical columns to the coded categorical dataframe\n",
        "\n",
        "df_corr_input = pd.concat([df_cat_coded, df1_level_3[['num_shares', 'video_duration', 'video_watch_duration']]], axis = 1)\n",
        "df_corr_input.head(3)"
      ],
      "metadata": {
        "id": "xjT-mcVweXjA"
      },
      "execution_count": null,
      "outputs": []
    },
    {
      "cell_type": "code",
      "source": [
        "plt.figure(figsize=(16, 6))\n",
        "# Correlation is very weak. Need to adjust color bar range \n",
        "# Color bar range \n",
        "heatmap = sns.heatmap(df_corr_input.corr(), vmin=-0.05, vmax=0.05, annot=True, cmap='BrBG')\n",
        "heatmap.set_title('Correlation Heatmap', fontdict={'fontsize':18}, pad=12);\n"
      ],
      "metadata": {
        "id": "-IFLmXEbfi2e"
      },
      "execution_count": null,
      "outputs": []
    },
    {
      "cell_type": "markdown",
      "source": [
        "## Correlation after dropping the least important 4 parameters that has abs(corr)< 0.005\n",
        "\n",
        "- country,  class, os, userId"
      ],
      "metadata": {
        "id": "-bSuv4EVsxMB"
      }
    },
    {
      "cell_type": "code",
      "source": [
        "fig, ax =  plt.subplots(1,2, figsize=(25, 8))\n",
        "df_corr_input_filtered = df_corr_input.drop(columns =['class','country', 'os', 'userId'])\n",
        "# Correlation is very weak. Need to adjust color bar range \n",
        "# Color bar range \n",
        "heatmap = sns.heatmap(df_corr_input_filtered.corr(), vmin=-0.05, vmax=0.05, annot=True, cmap='BrBG', ax=ax[0])\n",
        "heatmap.set_title('Correlation Heatmap', fontdict={'fontsize':18}, pad=12);\n",
        "heatmap = sns.heatmap(df_corr_input_filtered.corr().abs(), vmin=0, vmax=0.05, annot=True, cmap='BrBG',ax=ax[1])\n",
        "heatmap.set_title('Correlation Heatmap', fontdict={'fontsize':18}, pad=12);\n",
        "\n",
        "\n",
        "plt.show()\n"
      ],
      "metadata": {
        "id": "XiPQEHyfshnf"
      },
      "execution_count": null,
      "outputs": []
    },
    {
      "cell_type": "markdown",
      "source": [
        "# Correlation of important key variables with other variables \n",
        "- Dependent variable : video watch duration \n",
        "  - To increase the video watch time, what variables needs to be reviewed\n",
        "\n",
        "- Dependent variable : video\n",
        "  - Is video related with other variables(music or game)  ? \n",
        "\n",
        "- Dependent variable : num_shares\n",
        "  - To increase the number of video shares, what variables needs to be reviewed\n",
        "\n",
        "\n",
        "    "
      ],
      "metadata": {
        "id": "P6dZyESZCGB8"
      }
    },
    {
      "cell_type": "code",
      "source": [
        "# dependent variable = video_watch_duration\n",
        "fig, ax =  plt.subplots(1,3, figsize=(30, 8))\n",
        "\n",
        "dependent_col = 'video_watch_duration'\n",
        "heatmap = sns.heatmap(df_corr_input_filtered.corr()[[dependent_col]].sort_values(by=dependent_col, ascending=False), vmin=-0.05, vmax=0.05, annot=True, cmap='BrBG', ax=ax[0])\n",
        "heatmap.set_title('Features Correlating with ' + dependent_col, fontdict={'fontsize':15}, pad=16);\n",
        "\n",
        "dependent_col = 'game_id'\n",
        "heatmap = sns.heatmap(df_cat_coded.corr()[[dependent_col]].sort_values(by=dependent_col, ascending=False), vmin=-0.05, vmax=0.05, annot=True, cmap='BrBG', ax=ax[1])\n",
        "heatmap.set_title('Correlating with ' + dependent_col, fontdict={'fontsize':15}, pad=16);\n",
        "\n",
        "dependent_col = 'num_shares'\n",
        "heatmap = sns.heatmap(df_corr_input_filtered.corr()[[dependent_col]].sort_values(by=dependent_col, ascending=False), vmin=-0.05, vmax=0.05, annot=True, cmap='BrBG', ax=ax[2])\n",
        "heatmap.set_title('Correlating with ' + dependent_col, fontdict={'fontsize':15}, pad=16);"
      ],
      "metadata": {
        "id": "E8d8o_CV16mm"
      },
      "execution_count": null,
      "outputs": []
    },
    {
      "cell_type": "markdown",
      "source": [
        "## Identify the video chosen together with certain game and music "
      ],
      "metadata": {
        "id": "Wlkxw_WZPa4T"
      }
    },
    {
      "cell_type": "markdown",
      "source": [
        "### Correlated item search based on group by operation"
      ],
      "metadata": {
        "id": "Xk36Qc7lRFfE"
      }
    },
    {
      "cell_type": "code",
      "source": [
        "df_filtered_for_videoId = df1_level_3[['game_id', 'videoId', 'music_id', 'feedId', 'userId']]\n",
        "df1_level_3_gr = df_filtered_for_videoId.groupby(['game_id', 'music_id'])['videoId']\n",
        "df1_level_3_gr.describe()\n"
      ],
      "metadata": {
        "id": "3T_n6lIB7gwk"
      },
      "execution_count": null,
      "outputs": []
    },
    {
      "cell_type": "markdown",
      "source": [
        "### Correlated item search based on crosstab"
      ],
      "metadata": {
        "id": "Z9o41FO9RPyr"
      }
    },
    {
      "cell_type": "code",
      "source": [
        "# Crosstab supports grouping as well. In this case, group the columns\n",
        "## https://github.com/chris1610/pbpython/blob/master/notebooks/Crosstab_Explained.ipynb\n",
        "\n",
        "df_cross = pd.crosstab([df_filtered_for_videoId.game_id, df_filtered_for_videoId.music_id], df_filtered_for_videoId.videoId )\n",
        "df_cross"
      ],
      "metadata": {
        "id": "PtLMDeDBKxQQ"
      },
      "execution_count": null,
      "outputs": []
    },
    {
      "cell_type": "code",
      "source": [
        "df_cross.max(axis=1) ## Same result as above"
      ],
      "metadata": {
        "id": "padeWztnMM7e"
      },
      "execution_count": null,
      "outputs": []
    }
  ]
}